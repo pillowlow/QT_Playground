{
 "cells": [
  {
   "cell_type": "markdown",
   "id": "b8d69954",
   "metadata": {},
   "source": [
    "### 🌐 Weekly Macro Indicator Download\n",
    "\n",
    "This section downloads weekly data for key macroeconomic signals that are used as input features for the model:\n",
    "\n",
    "| Indicator        | Source Symbol | Description |\n",
    "|------------------|---------------|-------------|\n",
    "| **VIX**          | `^VIX`        | CBOE Volatility Index (market fear gauge) |\n",
    "| **10Y Yield**    | `^TNX`        | 10-Year U.S. Treasury yield (interest rate proxy) |\n",
    "| **USD Index**    | `DX-Y.NYB`    | Strength of the U.S. dollar |\n",
    "| **Crude Oil**    | `CL=F`        | WTI Crude Oil futures price |\n",
    "\n",
    "All indicators are:\n",
    "- Downloaded at **weekly frequency** using Yahoo Finance\n",
    "- Aligned on the same date index as the ETF data\n",
    "- The 10-year yield is converted to a % by multiplying by `0.1`\n"
   ]
  },
  {
   "cell_type": "code",
   "execution_count": null,
   "id": "36deb115",
   "metadata": {},
   "outputs": [],
   "source": [
    "import os\n",
    "import pandas as pd\n",
    "import yfinance as yf\n",
    "from datetime import datetime, timedelta\n",
    "\n",
    "YEARS = 10\n",
    "\n",
    "# ETF list\n",
    "etf_list = [\n",
    "    'XLK', 'XLF', 'XLV', 'XLE', 'XLI', 'XLY', 'XLP', 'XLRE', 'XLU', 'XLB', 'XLC',\n",
    "    'SOXX', 'SH', 'DOG', 'RWM', 'ITA', 'JETS', 'PSQ', 'VNQ', 'SPY'\n",
    "]\n",
    "\n",
    "# Date range\n",
    "end_date = datetime.today().strftime('%Y-%m-%d')\n",
    "start_date = (datetime.today() - timedelta(weeks=YEARS*52)).strftime('%Y-%m-%d')\n",
    "\n",
    "print(f\"📅 Downloading data from {start_date} to {end_date}\")\n",
    "\n",
    "# Ensure dataset/ exists\n",
    "dataset_path = os.path.abspath(os.path.join(os.getcwd(), '..', 'dataset'))\n",
    "if not os.path.isdir(dataset_path):\n",
    "    raise FileNotFoundError(f\"🚫 'dataset/' folder not found at {dataset_path}\")\n",
    "\n",
    "# Containers\n",
    "adjclose_data, volume_data, high_data, low_data = {}, {}, {}, {}\n",
    "\n",
    "# Download each ETF\n",
    "for symbol in etf_list:\n",
    "    print(f\"⬇️ Downloading {symbol}...\")\n",
    "    data = yf.download(symbol, start=start_date, end=end_date, interval='1wk', auto_adjust=False)\n",
    "    if not data.empty:\n",
    "        adjclose_data[symbol] = data[['Adj Close']].rename(columns={'Adj Close': symbol})\n",
    "        volume_data[symbol] = data[['Volume']].rename(columns={'Volume': symbol})\n",
    "        high_data[symbol] = data[['High']].rename(columns={'High': symbol})\n",
    "        low_data[symbol] = data[['Low']].rename(columns={'Low': symbol})\n",
    "\n",
    "# Merge and clean\n",
    "def combine_and_save(data_dict, filename):\n",
    "    df = pd.concat(data_dict.values(), axis=1)\n",
    "    df = df.apply(pd.to_numeric, errors='coerce')\n",
    "    df.index = pd.to_datetime(df.index, errors='coerce')\n",
    "    df = df[~df.index.duplicated(keep='first')].sort_index()\n",
    "    df.dropna(axis=0, how='all', inplace=True)\n",
    "    path = os.path.join(dataset_path, filename)\n",
    "    df.to_csv(path)\n",
    "    print(f\"✅ Saved: {filename}\")\n",
    "    return df\n",
    "\n",
    "# Save all\n",
    "price_df = combine_and_save(adjclose_data, 'etf_prices_weekly.csv')\n",
    "volume_df = combine_and_save(volume_data, 'etf_volume_weekly.csv')\n",
    "high_df = combine_and_save(high_data, 'etf_high_weekly.csv')\n",
    "low_df = combine_and_save(low_data, 'etf_low_weekly.csv')\n",
    "\n",
    "# Preview\n",
    "price_df.head()\n",
    "\n",
    "# Macro indicator tickers on Yahoo Finance\n",
    "macro_tickers = {\n",
    "    'VIX': '^VIX',               # Volatility Index\n",
    "    '10Y_Yield': '^TNX',         # 10-Year Treasury Yield (multiply by 0.1)\n",
    "    'USD_Index': 'DX-Y.NYB',     # U.S. Dollar Index\n",
    "    'WTI_Crude': 'CL=F'          # Crude Oil (WTI)\n",
    "}\n",
    "\n",
    "# Date range matching your ETF backtest period\n",
    "end_date = datetime.today().strftime('%Y-%m-%d')\n",
    "start_date = (datetime.today() - timedelta(weeks=YEARS*52)).strftime('%Y-%m-%d')\n",
    "\n",
    "# Download weekly data\n",
    "macro_data = {}\n",
    "for name, ticker in macro_tickers.items():\n",
    "    print(f\"Downloading {name} ({ticker})...\")\n",
    "    data = yf.download(ticker, start=start_date, end=end_date, interval='1wk', auto_adjust=False)\n",
    "    macro_data[name] = data[['Close']].rename(columns={'Close': name})\n",
    "\n",
    "# Combine all macro indicators into one DataFrame\n",
    "macro_df = pd.concat(macro_data.values(), axis=1)\n",
    "\n",
    "# Fix 10Y yield scale\n",
    "if '10Y_Yield' in macro_df.columns:\n",
    "    macro_df['10Y_Yield'] = macro_df['10Y_Yield'] * 0.1\n",
    "\n",
    "# Drop missing rows\n",
    "macro_df.dropna(inplace=True)\n",
    "macro_df.columns = pd.Index(list(macro_tickers.keys()))\n",
    "\n",
    "# Save to CSV\n",
    "macro_save_path = os.path.abspath(os.path.join(os.getcwd(), '..', 'dataset', 'macro_indicators_weekly.csv'))\n",
    "macro_df.to_csv(macro_save_path)\n",
    "print(f\"✅ Macro indicators saved to: {macro_save_path}\")\n",
    "\n",
    "# Preview\n",
    "\n",
    "# macro_df = macro_df.apply(pd.to_numeric, errors='coerce')\n",
    "# macro_df.index = pd.to_datetime(macro_df.index)\n",
    "macro_df = macro_df[~macro_df.index.duplicated(keep='first')]\n",
    "macro_df.sort_index(inplace=True)\n",
    "macro_df.head()\n"
   ]
  },
  {
   "cell_type": "markdown",
   "id": "4a02b9dd",
   "metadata": {},
   "source": [
    "### 🧠 Feature Engineering\n",
    "\n",
    "This section prepares input features for the machine learning model.\n",
    "\n",
    "#### 📈 ETF-Specific Features:\n",
    "For each ETF, we will compute:\n",
    "- **1-week return**: Short-term price movement\n",
    "- **3-week return**: Medium-term trend\n",
    "- **6-week return**: Momentum across a longer window\n",
    "- **Streak**: Number of consecutive up weeks\n",
    "\n",
    "#### 🌐 Macro Indicators:\n",
    "From the macro_df, we already have:\n",
    "- **VIX**\n",
    "- **10Y Treasury Yield**\n",
    "- **USD Index**\n",
    "- **Crude Oil Price**\n",
    "\n",
    "These will be aligned with the ETF data by date and merged in.\n",
    "\n",
    "#### 📦 Resulting Feature Matrix:\n",
    "For each ETF on each week:\n",
    "- One row = a snapshot of that ETF and macro environment\n",
    "- Target = the **next week's return** for that ETF\n"
   ]
  },
  {
   "cell_type": "code",
   "execution_count": null,
   "id": "78c065fc",
   "metadata": {},
   "outputs": [],
   "source": [
    "import pandas as pd\n",
    "import os\n",
    "from ta import momentum, trend, volume\n",
    "\n",
    "# === Paths ===\n",
    "price_path = os.path.abspath(os.path.join(os.getcwd(), '..', 'dataset', 'etf_prices_weekly.csv'))\n",
    "volume_path = os.path.abspath(os.path.join(os.getcwd(), '..', 'dataset', 'etf_volume_weekly.csv'))\n",
    "num_etf = 0\n",
    "\n",
    "# === Helper to load ETF CSVs ===\n",
    "def load_etf_csv(path, name='[unknown]'):\n",
    "    global num_etf\n",
    "    try:\n",
    "        header_row = pd.read_csv(path, header=None, nrows=2)\n",
    "        columns = header_row.iloc[1].tolist()[1:]\n",
    "        df = pd.read_csv(path, skiprows=3, header=None)\n",
    "        df = df.iloc[:, :len(columns) + 1]\n",
    "        df.columns = ['Date'] + columns\n",
    "        df['Date'] = pd.to_datetime(df['Date'], errors='coerce')\n",
    "        df = df.set_index('Date')\n",
    "        df = df.apply(pd.to_numeric, errors='coerce')\n",
    "        num_etf = len(columns)\n",
    "        print(f\"✅ Loaded {name} with {len(columns)} tickers\")\n",
    "        return df\n",
    "    except Exception as e:\n",
    "        print(f\"❌ Failed to load {name}: {e}\")\n",
    "        raise\n",
    "\n",
    "# === Load data ===\n",
    "price_df = load_etf_csv(price_path, name='ETF Prices')\n",
    "volume_df = load_etf_csv(volume_path, name='ETF Volume')\n",
    "\n",
    "# === Feature storage ===\n",
    "features_all = []\n",
    "skipped = []\n",
    "\n",
    "# === Feature generation loop ===\n",
    "for symbol in price_df.columns:\n",
    "    if symbol not in volume_df.columns:\n",
    "        print(f\"⚠️ Skipping {symbol}: volume data missing.\")\n",
    "        skipped.append(symbol)\n",
    "        continue\n",
    "\n",
    "    df = pd.DataFrame(index=price_df.index)\n",
    "    df['close'] = price_df[symbol]\n",
    "    df['volume'] = volume_df[symbol]\n",
    "\n",
    "    try:\n",
    "        # === Return-based technical indicators ===\n",
    "        df[f'{symbol}_ret_1w'] = df['close'].pct_change(1)\n",
    "        df[f'{symbol}_ret_3w'] = df['close'].pct_change(3)\n",
    "        df[f'{symbol}_ret_6w'] = df['close'].pct_change(6)\n",
    "\n",
    "        high = df['close'].rolling(window=14).max()\n",
    "        low = df['close'].rolling(window=14).min()\n",
    "        df[f'{symbol}_stoch_k'] = 100 * (df['close'] - low) / (high - low)\n",
    "        df[f'{symbol}_stoch_d'] = df[f'{symbol}_stoch_k'].rolling(window=3).mean()\n",
    "        df[f'{symbol}_williams_r'] = -100 * (high - df['close']) / (high - low)\n",
    "\n",
    "        df[f'{symbol}_cci'] = trend.cci(high=df['close'], low=df['close'], close=df['close'], window=20)\n",
    "        df[f'{symbol}_rsi'] = momentum.rsi(df['close'], window=14)\n",
    "        df[f'{symbol}_obv'] = volume.on_balance_volume(df['close'], df['volume'])\n",
    "\n",
    "        df[f'{symbol}_macd'] = trend.macd(df['close'])\n",
    "        df[f'{symbol}_macd_signal'] = trend.macd_signal(df['close'])\n",
    "        df[f'{symbol}_macd_diff'] = trend.macd_diff(df['close'])\n",
    "\n",
    "        # === Price/volume and its variation ===\n",
    "        df[f'{symbol}_price_change'] = df['close'].pct_change(1)\n",
    "        df[f'{symbol}_volume_change'] = df['volume'].pct_change(1)\n",
    "\n",
    "        # === Short-term KST (custom) ===\n",
    "        roc1 = df['close'].pct_change(10)\n",
    "        roc2 = df['close'].pct_change(15)\n",
    "        roc3 = df['close'].pct_change(20)\n",
    "        roc4 = df['close'].pct_change(30)\n",
    "        df[f'{symbol}_kst_short'] = (\n",
    "            roc1.rolling(10).mean() +\n",
    "            roc2.rolling(10).mean() * 2 +\n",
    "            roc3.rolling(10).mean() * 3 +\n",
    "            roc4.rolling(15).mean() * 4\n",
    "        )\n",
    "\n",
    "        derived_cols = df.columns.difference(['close', 'volume'])\n",
    "        feature_df = df[derived_cols].copy()\n",
    "\n",
    "        features_all.append(feature_df)\n",
    "        print(f\"📈 {symbol}: {feature_df.dropna(how='all').shape[0]} valid rows\")\n",
    "\n",
    "    except Exception as e:\n",
    "        print(f\"❌ Error processing {symbol}: {e}\")\n",
    "        skipped.append(symbol)\n",
    "\n",
    "# === Final merge ===\n",
    "if len(features_all) == 0:\n",
    "    raise ValueError(\"🛑 No valid ETF features generated.\")\n",
    "\n",
    "features_df = pd.concat(features_all, axis=1).sort_index()\n",
    "features_df = features_df[~features_df.index.duplicated(keep='first')]\n",
    "\n",
    "print(\"📀 Final feature shape:\", features_df.shape)\n",
    "\n",
    "# === Save to CSV ===\n",
    "base_dir = os.path.abspath(os.path.join(os.getcwd(), '..', 'dataset'))\n",
    "fname = os.path.join(base_dir, f'weekly_{num_etf}_etf_tech_features.csv')\n",
    "features_df.to_csv(fname)\n",
    "print(f\"✅ Saved features to: {fname}\")"
   ]
  },
  {
   "cell_type": "markdown",
   "id": "56e3f2fb",
   "metadata": {},
   "source": [
    "### 📌 Deep Sector Rotation Strategy with Shock-Aware Early Exit\n",
    "\n",
    "This strategy builds on the \"Deep Sector Rotation\" approach proposed in [SSRN-4280640](https://papers.ssrn.com/sol3/papers.cfm?abstract_id=4280640), with the following modifications:\n",
    "\n",
    "---\n",
    "\n",
    "#### 🧠 Core Model (MLP)\n",
    "\n",
    "- A multi-layer perceptron (MLP) is trained to predict next-week returns for each ETF independently.\n",
    "- Features include:\n",
    "  - Past 1w, 3w, 6w returns\n",
    "  - Volume (log normalized)\n",
    "  - Macro indicators (VIX, 10Y yield, USD index, oil)\n",
    "  - Streak up count (3-week up trend)\n",
    "  - Shock Amplify features:\n",
    "    - This week\n",
    "    - 1-week lag\n",
    "    - 3-week average\n",
    "\n",
    "---\n",
    "\n",
    "#### 🔁 Weekly Rotation Rule (baseline)\n",
    "\n",
    "- Each week (e.g., Monday), predict returns for all ETFs using the MLP.\n",
    "- Rank the ETFs by predicted return.\n",
    "- Buy top-N (e.g., 3) ETFs.\n",
    "- Hold for 1 week (unless overridden by shock rule below).\n",
    "\n",
    "---\n",
    "\n",
    "#### ⚡ Shock Amplify Early Exit Rule (custom addition)\n",
    "\n",
    "- Each day (or evaluation step), check for ETFs in the portfolio with:\n",
    "  - `Shock_Amplify_3w` > +10% or < -10%\n",
    "- If triggered:\n",
    "  - Sell that ETF immediately.\n",
    "  - Immediately start a new turn (predict again, re-select top-N).\n",
    "\n",
    "---\n",
    "\n",
    "#### 💼 Goal\n",
    "\n",
    "- Combine deep learning-based prediction with handcrafted rules for volatility control.\n",
    "- Achieve more stable and responsive ETF swing trading performance.\n"
   ]
  },
  {
   "cell_type": "code",
   "execution_count": null,
   "id": "fbd4a227",
   "metadata": {},
   "outputs": [
    {
     "name": "stdout",
     "output_type": "stream",
     "text": [
      "Generated 4627 samples.\n"
     ]
    },
    {
     "name": "stderr",
     "output_type": "stream",
     "text": [
      "c:\\Python311\\Lib\\site-packages\\torch\\nn\\modules\\transformer.py:385: UserWarning: enable_nested_tensor is True, but self.use_nested_tensor is False because encoder_layer.self_attn.batch_first was not True(use batch_first for better inference performance)\n",
      "  warnings.warn(\n",
      "Epoch 300 lr=1.00e-03, Average Loss: 1.05e-01, Average Test Loss: 2.52e-01, Best test loss 2.24e-01 at epoch 24 : 100%|██████████| 300/300 [03:23<00:00,  1.47it/s]"
     ]
    },
    {
     "name": "stdout",
     "output_type": "stream",
     "text": [
      "Loss of top 3 best models: ['2.24e-01', '2.27e-01', '2.30e-01']\n",
      "Training finished!\n"
     ]
    },
    {
     "name": "stderr",
     "output_type": "stream",
     "text": [
      "\n"
     ]
    }
   ],
   "source": [
    "import os\n",
    "import re\n",
    "import torch\n",
    "import numpy as np\n",
    "import pandas as pd\n",
    "import torch.nn as nn\n",
    "from tqdm import trange\n",
    "from heapq import heappush, heappushpop\n",
    "from torch.utils.data import DataLoader\n",
    "from torchmetrics import MeanAbsolutePercentageError\n",
    "from model_definition import StockDataset, StockPredictionTransformer\n",
    "\n",
    "def clear_line(n=1):\n",
    "    LINE_UP = '\\033[1A'\n",
    "    LINE_CLEAR = '\\x1b[2K'\n",
    "    for _ in range(n):\n",
    "        print(LINE_UP, end=LINE_CLEAR)\n",
    "\n",
    "# 超參數設定\n",
    "INPUT_DIM = 32\n",
    "ETF_EMBEDDING_DIM = 32\n",
    "TRANSFORMER_DIM = 64\n",
    "OUTPUT_DIM = 1 # 預測下週漲跌幅度 (單一數值)\n",
    "SEQ_LEN = 4\n",
    "NUM_HEADS = 2\n",
    "NUM_LAYERS = 2\n",
    "BATCH_SIZE = 32\n",
    "LEARNING_RATE = 1E-3\n",
    "NUM_EPOCHS = 250\n",
    "SAMPLING_INTERVAL = 1\n",
    "# 1. 資料準備 \n",
    "TEST_PERCENTAGE = 0.25\n",
    "\n",
    "etf_list = [\n",
    "    'XLK', 'XLF', 'XLV', 'XLE', 'XLI', 'XLY', 'XLP', 'XLRE', 'XLU', 'XLB', 'XLC',\n",
    "    'SOXX', 'SH', 'DOG', 'RWM', 'ITA', 'JETS', 'PSQ', 'VNQ', 'SPY'\n",
    "]\n",
    "\n",
    "# 範例 ETF 資料 (DataFrame) - 假設你的 ETF 資料是 DataFrame 格式，每行代表一天一個 ETF 的資料\n",
    "# 實際情況你需要從你的資料來源載入\n",
    "base_dir = os.path.abspath(os.path.join(os.getcwd(), '..', 'dataset'))\n",
    "feature_file = [res.group(0) for f in os.listdir(base_dir) if (res := re.search(r'weekly_(\\d+)_etf_tech_features.csv', f)) is not None]\n",
    "etf_data = pd.read_csv(os.path.join(base_dir, feature_file[0]))\n",
    "\n",
    "# 範例 Macro 指標資料 (DataFrame) - 假設你的 Macro 指標資料是 DataFrame 格式，每行代表一天的 Macro 指標\n",
    "# 實際情況你需要從你的資料來源載入\n",
    "macro_data = pd.read_csv(os.path.join(base_dir, 'macro_indicators_weekly.csv'), index_col=0)\n",
    "\n",
    "# 建立資料集和資料載入器\n",
    "dataset = StockDataset(etf_list, etf_data, macro_data, \n",
    "                       test_percentage=TEST_PERCENTAGE, \n",
    "                       sequence_length=SEQ_LEN, \n",
    "                       sampling_interval=SAMPLING_INTERVAL)\n",
    "dataset.train()\n",
    "dataloader = DataLoader(dataset, batch_size=BATCH_SIZE, shuffle=True)\n",
    "dataset.train()\n",
    "test_dataloader = DataLoader(dataset, batch_size=BATCH_SIZE, shuffle=False) # batch_size 可以與訓練時相同，shuffle=False\n",
    "\n",
    "class customMetric():\n",
    "    def __init__(self):\n",
    "        self.mape_metric = MeanAbsolutePercentageError.to(device)\n",
    "\n",
    "    def __call__(self, pred, y):\n",
    "        mape = self.mape_metric(pred, y)\n",
    "        direction_loss = 1 - (torch.sign(pred) == torch.sign(y)).float().mean()\n",
    "        return 0.5 * mape +  0.5 * direction_loss\n",
    "\n",
    "# 建立模型、損失函數和優化器\n",
    "device = torch.device(\"cuda\" if torch.cuda.is_available() else \"cpu\")\n",
    "model = StockPredictionTransformer(ETF_EMBEDDING_DIM,\n",
    "                                   dataset.num_etf_features, \n",
    "                                   dataset.num_macros,\n",
    "                                   INPUT_DIM,\n",
    "                                   TRANSFORMER_DIM,\n",
    "                                   SEQ_LEN, \n",
    "                                   OUTPUT_DIM,\n",
    "                                   len(etf_list),\n",
    "                                   NUM_HEADS, \n",
    "                                   NUM_LAYERS).to(device)\n",
    "\n",
    "model.device = device\n",
    "criterion = nn.MSELoss() # 均方誤差損失函數 (回歸任務)\n",
    "metrics = customMetric()\n",
    "optimizer = torch.optim.AdamW(model.parameters(), lr=LEARNING_RATE)\n",
    "scheduler = torch.optim.lr_scheduler.ReduceLROnPlateau(\n",
    "    optimizer, factor=np.sqrt(np.exp(-1)), patience=20, min_lr=1E-7\n",
    ")\n",
    "\n",
    "k = 3\n",
    "best_k_models = []\n",
    "\n",
    "# 訓練迴圈\n",
    "iterator = trange(NUM_EPOCHS)\n",
    "best_test_loss_epoch = [1E308, 0]\n",
    "for epoch in iterator:\n",
    "    total_loss = 0\n",
    "\n",
    "    # Train\n",
    "    model.train() # 設定模型為訓練模式\n",
    "    dataset.train()\n",
    "    for batch in dataloader:\n",
    "        etf_features = batch['etf_features'].to(model.device) # [seq_len, feature_dim]\n",
    "        macro_features = batch['macro_features'].to(model.device) # [seq_len, feature_dim]\n",
    "        targets = batch['targets'].to(model.device) # [seq_len, 1]\n",
    "        etf_indices = batch['etf_index'].to(model.device)\n",
    "\n",
    "        # 前向傳播\n",
    "        outputs = model(etf_features, macro_features, etf_indices) # [output_dim]\n",
    "\n",
    "        # 計算損失 (只取最後一個時間步的目標值進行比較，範例簡化處理)\n",
    "        loss = criterion(outputs, targets) # targets[-1] 取最後一個時間步的目標值，並移除 batch_size 維度\n",
    "\n",
    "        # 反向傳播和優化\n",
    "        optimizer.zero_grad() # 清空梯度\n",
    "        loss.backward() # 反向傳播計算梯度\n",
    "        optimizer.step() # 更新模型參數\n",
    "\n",
    "        total_loss += loss.item()\n",
    "\n",
    "    avg_loss = total_loss / len(dataloader) \n",
    "    scheduler.step(avg_loss)\n",
    "\n",
    "    # Test\n",
    "    model.eval()\n",
    "    dataset.test()\n",
    "    with torch.no_grad(): # 關閉梯度計算\n",
    "        avg_valid_metrics = 0\n",
    "\n",
    "        for batch in test_dataloader:\n",
    "            etf_features = batch['etf_features'].to(model.device)\n",
    "            macro_features = batch['macro_features'].to(model.device)\n",
    "            targets = batch['targets'].to(model.device)\n",
    "            etf_indices = batch['etf_index'].to(model.device)\n",
    "\n",
    "            # 前向傳播\n",
    "            outputs = model(etf_features, macro_features, etf_indices) # [output_dim]\n",
    "            valid_metrics += metrics(outputs, targets).item()\n",
    "\n",
    "        avg_valid_metrics = valid_metrics / len(dataloader) \n",
    "\n",
    "    if len(best_k_models) >= k:\n",
    "        heappushpop(best_k_models, (-avg_valid_metrics, model.state_dict()))\n",
    "    else:\n",
    "        heappush(best_k_models, (-avg_valid_metrics, model.state_dict()))\n",
    "\n",
    "    best_test_loss_epoch = [avg_valid_metrics, epoch + 1] if max(model[0] for model in best_k_models) == -avg_valid_metrics else best_test_loss_epoch\n",
    "    msg = f\"Epoch {epoch+1} lr={scheduler.get_last_lr()[0]:.2e}, Average Loss: {avg_loss:.2e}\" + \\\n",
    "          f\", Average Valid Metrics: {avg_valid_metrics:.2e}\" + \\\n",
    "          f\", Best test loss {best_test_loss_epoch[0]:.2e} at epoch {best_test_loss_epoch[1]} \"\n",
    "    iterator.set_description(msg)\n",
    "\n",
    "print(f\"Metrics of top {k} best models: {[f'{-m[0]:.2e}' for m in sorted(best_k_models, key=lambda x: -x[0])]}\")\n",
    "model.load_state_dict(best_k_models[0][1])\n",
    "print(\"Training finished!\")"
   ]
  },
  {
   "cell_type": "code",
   "execution_count": 6,
   "id": "b0d6be12",
   "metadata": {},
   "outputs": [
    {
     "data": {
      "text/plain": [
       "dict_keys(['XLK', 'XLF', 'XLV', 'XLE', 'XLI', 'XLY', 'XLP', 'XLRE', 'XLU', 'XLB', 'XLC', 'SOXX', 'SH', 'DOG', 'RWM', 'ITA', 'JETS', 'PSQ', 'VNQ', 'SPY'])"
      ]
     },
     "execution_count": 6,
     "metadata": {},
     "output_type": "execute_result"
    }
   ],
   "source": [
    "def evaluation(model:nn.Module, dataset:StockDataset, test=True):\n",
    "    # 設定模型為評估模式\n",
    "    model.eval()\n",
    "\n",
    "    # 準備測試資料集和資料載入器\n",
    "    if test:\n",
    "        dataset.test()\n",
    "    else:\n",
    "        dataset.train() # 使用與訓練集相同的 ETF 列表\n",
    "    test_dataloader = DataLoader(dataset, batch_size=32, shuffle=False) # batch_size 可以與訓練時相同，shuffle=False\n",
    "\n",
    "    predictions = {} # 儲存所有預測結果\n",
    "    actual_targets = {} # 儲存所有真實目標值\n",
    "    date_of_inputs = {}\n",
    "\n",
    "    with torch.no_grad(): # 關閉梯度計算\n",
    "        for batch in test_dataloader:\n",
    "            etf_features = batch['etf_features'].to(model.device)\n",
    "            macro_features = batch['macro_features'].to(model.device)\n",
    "            targets = batch['targets'].to(model.device)\n",
    "            dates = batch['dates']\n",
    "            etf_symbol = batch['etf_symbol']\n",
    "            etf_indices = batch['etf_index'].to(model.device)\n",
    "\n",
    "            # 前向傳播\n",
    "            outputs = model(etf_features, macro_features, etf_indices) # [output_dim]\n",
    "\n",
    "            # 將預測結果和真實目標值轉換為 NumPy array 並儲存\n",
    "            for etf, d, pred, real in zip(etf_symbol, dates, outputs.cpu().numpy(), targets.cpu().numpy()):\n",
    "                predictions[etf] = np.hstack([predictions.setdefault(etf, []), pred])\n",
    "                actual_targets[etf] = np.hstack([actual_targets.setdefault(etf, []), real])\n",
    "                date_of_inputs.setdefault(etf, []).append(d.split(',')[-1])\n",
    "\n",
    "    # # 將預測結果和真實目標值列表轉換為 NumPy array\n",
    "\n",
    "    for etf in predictions:\n",
    "        predictions[etf] = np.array(predictions[etf])\n",
    "        actual_targets[etf] = np.array(actual_targets[etf]).flatten()\n",
    "        date_of_inputs[etf] = np.array(date_of_inputs[etf]).flatten()\n",
    "\n",
    "    return predictions, actual_targets, date_of_inputs\n",
    "\n",
    "predictions, actual_targets, date_of_inputs = evaluation(model, dataset, test=False)\n",
    "predictions.keys()"
   ]
  },
  {
   "cell_type": "code",
   "execution_count": 7,
   "id": "6a9759f5",
   "metadata": {},
   "outputs": [
    {
     "data": {
      "application/vnd.plotly.v1+json": {
       "config": {
        "plotlyServerURL": "https://plot.ly"
       },
       "data": [
        {
         "name": "Predictions",
         "type": "scatter",
         "x": [
          "2016-04-11",
          "2016-04-25",
          "2016-05-09",
          "2016-05-23",
          "2016-06-06",
          "2016-06-20",
          "2016-07-04",
          "2016-07-18",
          "2016-08-01",
          "2016-08-15",
          "2016-08-29",
          "2016-09-12",
          "2016-09-26",
          "2016-10-10",
          "2016-10-24",
          "2016-11-07",
          "2016-11-21",
          "2016-12-05",
          "2016-12-19",
          "2017-01-02",
          "2017-01-16",
          "2017-01-30",
          "2017-02-13",
          "2017-02-27",
          "2017-03-13",
          "2017-03-27",
          "2017-04-10",
          "2017-04-24",
          "2017-05-08",
          "2017-05-22",
          "2017-06-05",
          "2017-06-19",
          "2017-07-03",
          "2017-07-17",
          "2017-07-31",
          "2017-08-14",
          "2017-08-28",
          "2017-09-11",
          "2017-09-25",
          "2017-10-09",
          "2017-10-23",
          "2017-11-06",
          "2017-11-20",
          "2017-12-04",
          "2017-12-18",
          "2018-01-01",
          "2018-01-15",
          "2018-01-29",
          "2018-02-12",
          "2018-02-26",
          "2018-03-12",
          "2018-03-26",
          "2018-04-09",
          "2018-04-23",
          "2018-05-07",
          "2018-05-21",
          "2018-06-04",
          "2018-06-18",
          "2018-07-02",
          "2018-07-16",
          "2018-07-30",
          "2018-08-13",
          "2018-08-27",
          "2018-09-10",
          "2018-09-24",
          "2018-10-08",
          "2018-10-22",
          "2018-11-05",
          "2018-11-19",
          "2018-12-03",
          "2018-12-17",
          "2018-12-31",
          "2019-01-14",
          "2019-01-28",
          "2019-02-11",
          "2019-02-25",
          "2019-03-11",
          "2019-03-25",
          "2019-04-08",
          "2019-04-22",
          "2019-05-06",
          "2019-05-20",
          "2019-06-03",
          "2019-06-17",
          "2019-07-01",
          "2019-07-15",
          "2019-07-29",
          "2019-08-12",
          "2019-08-26",
          "2019-09-09",
          "2019-09-23",
          "2019-10-07",
          "2019-10-21",
          "2019-11-04",
          "2019-11-18",
          "2019-12-02",
          "2019-12-16",
          "2019-12-30",
          "2020-01-13",
          "2020-01-27",
          "2020-02-10",
          "2020-02-24",
          "2020-03-09",
          "2020-03-23",
          "2020-04-06",
          "2020-04-20",
          "2020-05-04",
          "2020-05-18",
          "2020-06-01",
          "2020-06-15",
          "2020-06-29",
          "2020-07-13",
          "2020-07-27",
          "2020-08-10",
          "2020-08-24",
          "2020-09-07",
          "2020-09-21",
          "2020-10-05",
          "2020-10-19",
          "2020-11-02",
          "2020-11-16",
          "2020-11-30",
          "2020-12-14",
          "2020-12-28",
          "2021-01-11",
          "2021-01-25",
          "2021-02-08",
          "2021-02-22",
          "2021-03-08",
          "2021-03-22",
          "2021-04-05",
          "2021-04-19",
          "2021-05-03",
          "2021-05-17",
          "2021-05-31",
          "2021-06-14",
          "2021-06-28",
          "2021-07-12",
          "2021-07-26",
          "2021-08-09",
          "2021-08-23",
          "2021-09-06",
          "2021-09-20",
          "2021-10-04",
          "2021-10-18",
          "2021-11-01",
          "2021-11-15",
          "2021-11-29",
          "2021-12-13",
          "2021-12-27",
          "2022-01-10",
          "2022-01-24",
          "2022-02-07",
          "2022-02-21",
          "2022-03-07",
          "2022-03-21",
          "2022-04-04",
          "2022-04-18",
          "2022-05-02",
          "2022-05-16",
          "2022-05-30",
          "2022-06-13",
          "2022-06-27",
          "2022-07-11",
          "2022-07-25",
          "2022-08-08",
          "2022-08-22",
          "2022-09-05",
          "2022-09-19",
          "2022-10-03",
          "2022-10-17",
          "2022-10-31",
          "2022-11-14",
          "2022-11-28",
          "2022-12-12",
          "2022-12-26",
          "2023-01-09",
          "2023-01-23",
          "2023-02-06"
         ],
         "xaxis": "x",
         "y": [
          0.020595744252204895,
          -0.015933722257614136,
          0.02311757206916809,
          0.0008527040481567383,
          -0.014865878969430923,
          0.018499284982681274,
          0.007880829274654388,
          0.005497179925441742,
          0.0099797323346138,
          -0.012974649667739868,
          0.012153759598731995,
          0.0009874626994132996,
          0.004099532961845398,
          0.024102501571178436,
          -0.013004545122385025,
          0.015603438019752502,
          -0.020010091364383698,
          -0.0004321634769439697,
          0.002746783196926117,
          -0.009401816874742508,
          0.015552647411823273,
          0.01473294198513031,
          -0.000141926109790802,
          -0.003740154206752777,
          0.007324576377868652,
          0.006857864558696747,
          -0.010850086808204651,
          0.0031143352389335632,
          -0.022702571004629135,
          -0.020353231579065323,
          -0.015929922461509705,
          0.003124937415122986,
          -0.0064874812960624695,
          -0.013860933482646942,
          -0.00006482750177383423,
          0.008974120020866394,
          0.0012238919734954834,
          0.024432316422462463,
          0.008374184370040894,
          0.006694361567497253,
          0.01663810759782791,
          0.009027719497680664,
          0.024335496127605438,
          0.009290315210819244,
          0.005872614681720734,
          0.03348468989133835,
          0.02261803299188614,
          -0.07677030563354492,
          0.003359287977218628,
          0.03177556395530701,
          -0.011087097227573395,
          -0.016187146306037903,
          0.030890315771102905,
          0.007905900478363037,
          0.01267223060131073,
          0.025542378425598145,
          -0.0409749299287796,
          0.0049058496952056885,
          0.008712604641914368,
          0.008547991514205933,
          -0.00885803997516632,
          0.009873993694782257,
          0.00449632853269577,
          0.008350417017936707,
          0.011299625039100647,
          -0.006699446588754654,
          0.007304534316062927,
          -0.010982275009155273,
          0.03160014748573303,
          -0.027223005890846252,
          0.027684815227985382,
          0.007047660648822784,
          -0.01964111253619194,
          -0.03722076863050461,
          0.012727789580821991,
          -0.04535074159502983,
          -0.0016800463199615479,
          0.024581588804721832,
          -0.0018645226955413818,
          -0.0077079907059669495,
          0.002278946340084076,
          -0.042372941970825195,
          0.0031718909740448,
          0.0038733407855033875,
          0.013519316911697388,
          -0.006857093423604965,
          -0.02112894132733345,
          -0.015996243804693222,
          0.03252390772104263,
          -0.016222648322582245,
          -0.028384845703840256,
          -0.014808788895606995,
          0.009990811347961426,
          0.0034559816122055054,
          0.000593036413192749,
          0.008269697427749634,
          0.01808065176010132,
          0.019043967127799988,
          -0.0014201998710632324,
          0.011794209480285645,
          -0.007731609046459198,
          -0.07578647881746292,
          -0.19764529168605804,
          0.06159225106239319,
          0.01083856076002121,
          0.04880301654338837,
          -0.05823570489883423,
          0.011641807854175568,
          -0.09489678591489792,
          -0.05633299797773361,
          0.01016276329755783,
          -0.005832750350236893,
          0.029730603098869324,
          -0.059029124677181244,
          -0.03640029951930046,
          0.013321273028850555,
          -0.03687678277492523,
          -0.043091386556625366,
          -0.07504546642303467,
          -0.049018748104572296,
          0.05462028831243515,
          0.013514980673789978,
          -0.025956977158784866,
          0.06583760678768158,
          -0.01101766899228096,
          0.07256662845611572,
          0.025581158697605133,
          0.08925068378448486,
          -0.0508955717086792,
          0.013710960745811462,
          0.004609107971191406,
          0.025772057473659515,
          0.004065454006195068,
          0.002017773687839508,
          -0.011373080313205719,
          0.03567337989807129,
          -0.00988795980811119,
          0.0149758979678154,
          0.00830591470003128,
          -0.06142888218164444,
          -0.032767653465270996,
          0.026427723467350006,
          0.03792993724346161,
          0.007630780339241028,
          -0.01030893623828888,
          -0.02107686549425125,
          -0.014480475336313248,
          0.029112249612808228,
          0.022611849009990692,
          0.09386704862117767,
          -0.037560272961854935,
          0.06379616260528564,
          -0.026980683207511902,
          0.07555972039699554,
          -0.05221160873770714,
          -0.02343764156103134,
          -0.02902691438794136,
          -0.017762213945388794,
          0.001924075186252594,
          0.007151834666728973,
          -0.02488347887992859,
          -0.04738609865307808,
          -0.010752283036708832,
          -0.01633761078119278,
          -0.05295708402991295,
          -0.0023183673620224,
          -0.04069337993860245,
          -0.025094468146562576,
          0.0073043107986450195,
          -0.02029632404446602,
          0.042374543845653534,
          0.022221654653549194,
          0.012411937117576599,
          -0.05210736021399498,
          0.015047341585159302,
          0.013078272342681885,
          0.009850800037384033,
          -0.03288225457072258,
          -0.05340706184506416
         ],
         "yaxis": "y"
        },
        {
         "name": "Real",
         "type": "scatter",
         "x": [
          "2016-04-11",
          "2016-04-25",
          "2016-05-09",
          "2016-05-23",
          "2016-06-06",
          "2016-06-20",
          "2016-07-04",
          "2016-07-18",
          "2016-08-01",
          "2016-08-15",
          "2016-08-29",
          "2016-09-12",
          "2016-09-26",
          "2016-10-10",
          "2016-10-24",
          "2016-11-07",
          "2016-11-21",
          "2016-12-05",
          "2016-12-19",
          "2017-01-02",
          "2017-01-16",
          "2017-01-30",
          "2017-02-13",
          "2017-02-27",
          "2017-03-13",
          "2017-03-27",
          "2017-04-10",
          "2017-04-24",
          "2017-05-08",
          "2017-05-22",
          "2017-06-05",
          "2017-06-19",
          "2017-07-03",
          "2017-07-17",
          "2017-07-31",
          "2017-08-14",
          "2017-08-28",
          "2017-09-11",
          "2017-09-25",
          "2017-10-09",
          "2017-10-23",
          "2017-11-06",
          "2017-11-20",
          "2017-12-04",
          "2017-12-18",
          "2018-01-01",
          "2018-01-15",
          "2018-01-29",
          "2018-02-12",
          "2018-02-26",
          "2018-03-12",
          "2018-03-26",
          "2018-04-09",
          "2018-04-23",
          "2018-05-07",
          "2018-05-21",
          "2018-06-04",
          "2018-06-18",
          "2018-07-02",
          "2018-07-16",
          "2018-07-30",
          "2018-08-13",
          "2018-08-27",
          "2018-09-10",
          "2018-09-24",
          "2018-10-08",
          "2018-10-22",
          "2018-11-05",
          "2018-11-19",
          "2018-12-03",
          "2018-12-17",
          "2018-12-31",
          "2019-01-14",
          "2019-01-28",
          "2019-02-11",
          "2019-02-25",
          "2019-03-11",
          "2019-03-25",
          "2019-04-08",
          "2019-04-22",
          "2019-05-06",
          "2019-05-20",
          "2019-06-03",
          "2019-06-17",
          "2019-07-01",
          "2019-07-15",
          "2019-07-29",
          "2019-08-12",
          "2019-08-26",
          "2019-09-09",
          "2019-09-23",
          "2019-10-07",
          "2019-10-21",
          "2019-11-04",
          "2019-11-18",
          "2019-12-02",
          "2019-12-16",
          "2019-12-30",
          "2020-01-13",
          "2020-01-27",
          "2020-02-10",
          "2020-02-24",
          "2020-03-09",
          "2020-03-23",
          "2020-04-06",
          "2020-04-20",
          "2020-05-04",
          "2020-05-18",
          "2020-06-01",
          "2020-06-15",
          "2020-06-29",
          "2020-07-13",
          "2020-07-27",
          "2020-08-10",
          "2020-08-24",
          "2020-09-07",
          "2020-09-21",
          "2020-10-05",
          "2020-10-19",
          "2020-11-02",
          "2020-11-16",
          "2020-11-30",
          "2020-12-14",
          "2020-12-28",
          "2021-01-11",
          "2021-01-25",
          "2021-02-08",
          "2021-02-22",
          "2021-03-08",
          "2021-03-22",
          "2021-04-05",
          "2021-04-19",
          "2021-05-03",
          "2021-05-17",
          "2021-05-31",
          "2021-06-14",
          "2021-06-28",
          "2021-07-12",
          "2021-07-26",
          "2021-08-09",
          "2021-08-23",
          "2021-09-06",
          "2021-09-20",
          "2021-10-04",
          "2021-10-18",
          "2021-11-01",
          "2021-11-15",
          "2021-11-29",
          "2021-12-13",
          "2021-12-27",
          "2022-01-10",
          "2022-01-24",
          "2022-02-07",
          "2022-02-21",
          "2022-03-07",
          "2022-03-21",
          "2022-04-04",
          "2022-04-18",
          "2022-05-02",
          "2022-05-16",
          "2022-05-30",
          "2022-06-13",
          "2022-06-27",
          "2022-07-11",
          "2022-07-25",
          "2022-08-08",
          "2022-08-22",
          "2022-09-05",
          "2022-09-19",
          "2022-10-03",
          "2022-10-17",
          "2022-10-31",
          "2022-11-14",
          "2022-11-28",
          "2022-12-12",
          "2022-12-26",
          "2023-01-09",
          "2023-01-23",
          "2023-02-06"
         ],
         "xaxis": "x",
         "y": [
          0.055083442479372025,
          -0.03303716331720352,
          0.018002819269895554,
          -0.008789082989096642,
          -0.007124616764485836,
          0.02725364826619625,
          0.022448863834142685,
          -0.013758743181824684,
          0.017325641587376595,
          -0.014628947712481022,
          0.008974859490990639,
          0.008878153748810291,
          0,
          0.005587425548583269,
          -0.023064957931637764,
          0.024042855948209763,
          0.029015274718403816,
          -0.0011746613308787346,
          -0.01349054928869009,
          -0.01989741437137127,
          -0.00415851129218936,
          -0.001634805230423808,
          -0.013616861775517464,
          -0.0275039654225111,
          -0.011873035691678524,
          0.006580645218491554,
          -0.021930349990725517,
          -0.0078124189749360085,
          0.004870518110692501,
          -0.022819602862000465,
          -0.0018064291216433048,
          0.008387799374759197,
          0.021715553477406502,
          0.02088753879070282,
          -0.025898616760969162,
          0.010911153629422188,
          0.012897095642983913,
          0.034097034484148026,
          -0.005986962933093309,
          -0.005430448334664106,
          0.019898738712072372,
          -0.03201274946331978,
          0.026517346501350403,
          -0.008083068765699863,
          0.004029629752039909,
          0.03267965838313103,
          0.014794659800827503,
          -0.07990594208240509,
          0.009982634335756302,
          0.02240506373345852,
          -0.0009596096933819354,
          -0.0008901431574486196,
          0.02646702155470848,
          0.00040631843148730695,
          0.01798507571220398,
          0.024135231971740723,
          -0.03550039231777191,
          0.010512137785553932,
          0.0077970633283257484,
          0.023234078660607338,
          0.0006644507520832121,
          0.026580141857266426,
          -0.022031065076589584,
          0.011311626993119717,
          0.018748650327324867,
          -0.020136913284659386,
          0.016245314851403236,
          -0.01927001215517521,
          0.03442354500293732,
          -0.03090372309088707,
          0.026263508945703506,
          0.03574422001838684,
          -0.014254358597099781,
          -0.030051130801439285,
          -0.00544453039765358,
          -0.03837469220161438,
          0.007227499503642321,
          0.02253461815416813,
          -0.0054768156260252,
          -0.029749123379588127,
          -0.004684171639382839,
          -0.04625152051448822,
          -0.004243833944201469,
          0.011509275995194912,
          0.0213980320841074,
          -0.004939279519021511,
          -0.021523255854845047,
          -0.018590031191706657,
          0.02696600928902626,
          0.0032745455391705036,
          -0.03773258998990059,
          -0.01485561765730381,
          -0.004032330121845007,
          -0.010050959885120392,
          -0.015711314976215363,
          0.009879497811198235,
          0.015023035928606987,
          0.019845033064484596,
          -0.042286861687898636,
          0.010104521177709103,
          -0.008061333559453487,
          -0.061188455671072006,
          -0.1966446191072464,
          0.07650896906852722,
          0.0011799808125942945,
          0.03552836552262306,
          -0.07194425910711288,
          0.007277073338627815,
          -0.11195371299982071,
          -0.07733150571584702,
          -0.048205483704805374,
          0.022349270060658455,
          0.03191795200109482,
          -0.05655936896800995,
          -0.043084364384412766,
          0.03034950979053974,
          -0.012849493883550167,
          -0.0194869227707386,
          -0.054952312260866165,
          0.17110243439674377,
          0.08656800538301468,
          0.012060394510626793,
          -0.03248731046915054,
          0.0928763747215271,
          -0.015906481072306633,
          0.0824008509516716,
          0.033803366124629974,
          0.0996883288025856,
          -0.0754154697060585,
          0.008205153979361057,
          0.004358058329671621,
          0.03891471028327942,
          -0.0026106357108801603,
          0.0009586770320311189,
          -0.006636901292949915,
          0.056308455765247345,
          -0.03364419937133789,
          -0.003286643186584115,
          0.0024295246694236994,
          -0.07142850011587143,
          -0.013993323780596256,
          0.032014716416597366,
          0.07061118632555008,
          0.01343479286879301,
          -0.008283148519694805,
          -0.0121866250410676,
          0.01664523035287857,
          0.038084883242845535,
          0.009748108685016632,
          0.10522515326738358,
          -0.03193318471312523,
          0.0498247966170311,
          -0.03351795673370361,
          0.0921897292137146,
          -0.03864675760269165,
          -0.012100176885724068,
          0.004023440647870302,
          -0.013779640197753906,
          -0.025808127596974373,
          0.08267104625701904,
          -0.008937536738812923,
          -0.02585400640964508,
          -0.022457920014858246,
          0.037323400378227234,
          -0.06809486448764801,
          0.012616069987416267,
          -0.03476572781801224,
          -0.026798991486430168,
          0.03299130126833916,
          -0.018582114949822426,
          0.02668844535946846,
          0.0187048502266407,
          0.0026192590594291687,
          -0.08448683470487595,
          0.03200563043355942,
          0.0010290034115314484,
          0.005892097018659115,
          -0.057766128331422806,
          -0.06340767443180084
         ],
         "yaxis": "y"
        }
       ],
       "layout": {
        "template": {
         "data": {
          "bar": [
           {
            "error_x": {
             "color": "#2a3f5f"
            },
            "error_y": {
             "color": "#2a3f5f"
            },
            "marker": {
             "line": {
              "color": "#E5ECF6",
              "width": 0.5
             },
             "pattern": {
              "fillmode": "overlay",
              "size": 10,
              "solidity": 0.2
             }
            },
            "type": "bar"
           }
          ],
          "barpolar": [
           {
            "marker": {
             "line": {
              "color": "#E5ECF6",
              "width": 0.5
             },
             "pattern": {
              "fillmode": "overlay",
              "size": 10,
              "solidity": 0.2
             }
            },
            "type": "barpolar"
           }
          ],
          "carpet": [
           {
            "aaxis": {
             "endlinecolor": "#2a3f5f",
             "gridcolor": "white",
             "linecolor": "white",
             "minorgridcolor": "white",
             "startlinecolor": "#2a3f5f"
            },
            "baxis": {
             "endlinecolor": "#2a3f5f",
             "gridcolor": "white",
             "linecolor": "white",
             "minorgridcolor": "white",
             "startlinecolor": "#2a3f5f"
            },
            "type": "carpet"
           }
          ],
          "choropleth": [
           {
            "colorbar": {
             "outlinewidth": 0,
             "ticks": ""
            },
            "type": "choropleth"
           }
          ],
          "contour": [
           {
            "colorbar": {
             "outlinewidth": 0,
             "ticks": ""
            },
            "colorscale": [
             [
              0,
              "#0d0887"
             ],
             [
              0.1111111111111111,
              "#46039f"
             ],
             [
              0.2222222222222222,
              "#7201a8"
             ],
             [
              0.3333333333333333,
              "#9c179e"
             ],
             [
              0.4444444444444444,
              "#bd3786"
             ],
             [
              0.5555555555555556,
              "#d8576b"
             ],
             [
              0.6666666666666666,
              "#ed7953"
             ],
             [
              0.7777777777777778,
              "#fb9f3a"
             ],
             [
              0.8888888888888888,
              "#fdca26"
             ],
             [
              1,
              "#f0f921"
             ]
            ],
            "type": "contour"
           }
          ],
          "contourcarpet": [
           {
            "colorbar": {
             "outlinewidth": 0,
             "ticks": ""
            },
            "type": "contourcarpet"
           }
          ],
          "heatmap": [
           {
            "colorbar": {
             "outlinewidth": 0,
             "ticks": ""
            },
            "colorscale": [
             [
              0,
              "#0d0887"
             ],
             [
              0.1111111111111111,
              "#46039f"
             ],
             [
              0.2222222222222222,
              "#7201a8"
             ],
             [
              0.3333333333333333,
              "#9c179e"
             ],
             [
              0.4444444444444444,
              "#bd3786"
             ],
             [
              0.5555555555555556,
              "#d8576b"
             ],
             [
              0.6666666666666666,
              "#ed7953"
             ],
             [
              0.7777777777777778,
              "#fb9f3a"
             ],
             [
              0.8888888888888888,
              "#fdca26"
             ],
             [
              1,
              "#f0f921"
             ]
            ],
            "type": "heatmap"
           }
          ],
          "heatmapgl": [
           {
            "colorbar": {
             "outlinewidth": 0,
             "ticks": ""
            },
            "colorscale": [
             [
              0,
              "#0d0887"
             ],
             [
              0.1111111111111111,
              "#46039f"
             ],
             [
              0.2222222222222222,
              "#7201a8"
             ],
             [
              0.3333333333333333,
              "#9c179e"
             ],
             [
              0.4444444444444444,
              "#bd3786"
             ],
             [
              0.5555555555555556,
              "#d8576b"
             ],
             [
              0.6666666666666666,
              "#ed7953"
             ],
             [
              0.7777777777777778,
              "#fb9f3a"
             ],
             [
              0.8888888888888888,
              "#fdca26"
             ],
             [
              1,
              "#f0f921"
             ]
            ],
            "type": "heatmapgl"
           }
          ],
          "histogram": [
           {
            "marker": {
             "pattern": {
              "fillmode": "overlay",
              "size": 10,
              "solidity": 0.2
             }
            },
            "type": "histogram"
           }
          ],
          "histogram2d": [
           {
            "colorbar": {
             "outlinewidth": 0,
             "ticks": ""
            },
            "colorscale": [
             [
              0,
              "#0d0887"
             ],
             [
              0.1111111111111111,
              "#46039f"
             ],
             [
              0.2222222222222222,
              "#7201a8"
             ],
             [
              0.3333333333333333,
              "#9c179e"
             ],
             [
              0.4444444444444444,
              "#bd3786"
             ],
             [
              0.5555555555555556,
              "#d8576b"
             ],
             [
              0.6666666666666666,
              "#ed7953"
             ],
             [
              0.7777777777777778,
              "#fb9f3a"
             ],
             [
              0.8888888888888888,
              "#fdca26"
             ],
             [
              1,
              "#f0f921"
             ]
            ],
            "type": "histogram2d"
           }
          ],
          "histogram2dcontour": [
           {
            "colorbar": {
             "outlinewidth": 0,
             "ticks": ""
            },
            "colorscale": [
             [
              0,
              "#0d0887"
             ],
             [
              0.1111111111111111,
              "#46039f"
             ],
             [
              0.2222222222222222,
              "#7201a8"
             ],
             [
              0.3333333333333333,
              "#9c179e"
             ],
             [
              0.4444444444444444,
              "#bd3786"
             ],
             [
              0.5555555555555556,
              "#d8576b"
             ],
             [
              0.6666666666666666,
              "#ed7953"
             ],
             [
              0.7777777777777778,
              "#fb9f3a"
             ],
             [
              0.8888888888888888,
              "#fdca26"
             ],
             [
              1,
              "#f0f921"
             ]
            ],
            "type": "histogram2dcontour"
           }
          ],
          "mesh3d": [
           {
            "colorbar": {
             "outlinewidth": 0,
             "ticks": ""
            },
            "type": "mesh3d"
           }
          ],
          "parcoords": [
           {
            "line": {
             "colorbar": {
              "outlinewidth": 0,
              "ticks": ""
             }
            },
            "type": "parcoords"
           }
          ],
          "pie": [
           {
            "automargin": true,
            "type": "pie"
           }
          ],
          "scatter": [
           {
            "fillpattern": {
             "fillmode": "overlay",
             "size": 10,
             "solidity": 0.2
            },
            "type": "scatter"
           }
          ],
          "scatter3d": [
           {
            "line": {
             "colorbar": {
              "outlinewidth": 0,
              "ticks": ""
             }
            },
            "marker": {
             "colorbar": {
              "outlinewidth": 0,
              "ticks": ""
             }
            },
            "type": "scatter3d"
           }
          ],
          "scattercarpet": [
           {
            "marker": {
             "colorbar": {
              "outlinewidth": 0,
              "ticks": ""
             }
            },
            "type": "scattercarpet"
           }
          ],
          "scattergeo": [
           {
            "marker": {
             "colorbar": {
              "outlinewidth": 0,
              "ticks": ""
             }
            },
            "type": "scattergeo"
           }
          ],
          "scattergl": [
           {
            "marker": {
             "colorbar": {
              "outlinewidth": 0,
              "ticks": ""
             }
            },
            "type": "scattergl"
           }
          ],
          "scattermapbox": [
           {
            "marker": {
             "colorbar": {
              "outlinewidth": 0,
              "ticks": ""
             }
            },
            "type": "scattermapbox"
           }
          ],
          "scatterpolar": [
           {
            "marker": {
             "colorbar": {
              "outlinewidth": 0,
              "ticks": ""
             }
            },
            "type": "scatterpolar"
           }
          ],
          "scatterpolargl": [
           {
            "marker": {
             "colorbar": {
              "outlinewidth": 0,
              "ticks": ""
             }
            },
            "type": "scatterpolargl"
           }
          ],
          "scatterternary": [
           {
            "marker": {
             "colorbar": {
              "outlinewidth": 0,
              "ticks": ""
             }
            },
            "type": "scatterternary"
           }
          ],
          "surface": [
           {
            "colorbar": {
             "outlinewidth": 0,
             "ticks": ""
            },
            "colorscale": [
             [
              0,
              "#0d0887"
             ],
             [
              0.1111111111111111,
              "#46039f"
             ],
             [
              0.2222222222222222,
              "#7201a8"
             ],
             [
              0.3333333333333333,
              "#9c179e"
             ],
             [
              0.4444444444444444,
              "#bd3786"
             ],
             [
              0.5555555555555556,
              "#d8576b"
             ],
             [
              0.6666666666666666,
              "#ed7953"
             ],
             [
              0.7777777777777778,
              "#fb9f3a"
             ],
             [
              0.8888888888888888,
              "#fdca26"
             ],
             [
              1,
              "#f0f921"
             ]
            ],
            "type": "surface"
           }
          ],
          "table": [
           {
            "cells": {
             "fill": {
              "color": "#EBF0F8"
             },
             "line": {
              "color": "white"
             }
            },
            "header": {
             "fill": {
              "color": "#C8D4E3"
             },
             "line": {
              "color": "white"
             }
            },
            "type": "table"
           }
          ]
         },
         "layout": {
          "annotationdefaults": {
           "arrowcolor": "#2a3f5f",
           "arrowhead": 0,
           "arrowwidth": 1
          },
          "autotypenumbers": "strict",
          "coloraxis": {
           "colorbar": {
            "outlinewidth": 0,
            "ticks": ""
           }
          },
          "colorscale": {
           "diverging": [
            [
             0,
             "#8e0152"
            ],
            [
             0.1,
             "#c51b7d"
            ],
            [
             0.2,
             "#de77ae"
            ],
            [
             0.3,
             "#f1b6da"
            ],
            [
             0.4,
             "#fde0ef"
            ],
            [
             0.5,
             "#f7f7f7"
            ],
            [
             0.6,
             "#e6f5d0"
            ],
            [
             0.7,
             "#b8e186"
            ],
            [
             0.8,
             "#7fbc41"
            ],
            [
             0.9,
             "#4d9221"
            ],
            [
             1,
             "#276419"
            ]
           ],
           "sequential": [
            [
             0,
             "#0d0887"
            ],
            [
             0.1111111111111111,
             "#46039f"
            ],
            [
             0.2222222222222222,
             "#7201a8"
            ],
            [
             0.3333333333333333,
             "#9c179e"
            ],
            [
             0.4444444444444444,
             "#bd3786"
            ],
            [
             0.5555555555555556,
             "#d8576b"
            ],
            [
             0.6666666666666666,
             "#ed7953"
            ],
            [
             0.7777777777777778,
             "#fb9f3a"
            ],
            [
             0.8888888888888888,
             "#fdca26"
            ],
            [
             1,
             "#f0f921"
            ]
           ],
           "sequentialminus": [
            [
             0,
             "#0d0887"
            ],
            [
             0.1111111111111111,
             "#46039f"
            ],
            [
             0.2222222222222222,
             "#7201a8"
            ],
            [
             0.3333333333333333,
             "#9c179e"
            ],
            [
             0.4444444444444444,
             "#bd3786"
            ],
            [
             0.5555555555555556,
             "#d8576b"
            ],
            [
             0.6666666666666666,
             "#ed7953"
            ],
            [
             0.7777777777777778,
             "#fb9f3a"
            ],
            [
             0.8888888888888888,
             "#fdca26"
            ],
            [
             1,
             "#f0f921"
            ]
           ]
          },
          "colorway": [
           "#636efa",
           "#EF553B",
           "#00cc96",
           "#ab63fa",
           "#FFA15A",
           "#19d3f3",
           "#FF6692",
           "#B6E880",
           "#FF97FF",
           "#FECB52"
          ],
          "font": {
           "color": "#2a3f5f"
          },
          "geo": {
           "bgcolor": "white",
           "lakecolor": "white",
           "landcolor": "#E5ECF6",
           "showlakes": true,
           "showland": true,
           "subunitcolor": "white"
          },
          "hoverlabel": {
           "align": "left"
          },
          "hovermode": "closest",
          "mapbox": {
           "style": "light"
          },
          "paper_bgcolor": "white",
          "plot_bgcolor": "#E5ECF6",
          "polar": {
           "angularaxis": {
            "gridcolor": "white",
            "linecolor": "white",
            "ticks": ""
           },
           "bgcolor": "#E5ECF6",
           "radialaxis": {
            "gridcolor": "white",
            "linecolor": "white",
            "ticks": ""
           }
          },
          "scene": {
           "xaxis": {
            "backgroundcolor": "#E5ECF6",
            "gridcolor": "white",
            "gridwidth": 2,
            "linecolor": "white",
            "showbackground": true,
            "ticks": "",
            "zerolinecolor": "white"
           },
           "yaxis": {
            "backgroundcolor": "#E5ECF6",
            "gridcolor": "white",
            "gridwidth": 2,
            "linecolor": "white",
            "showbackground": true,
            "ticks": "",
            "zerolinecolor": "white"
           },
           "zaxis": {
            "backgroundcolor": "#E5ECF6",
            "gridcolor": "white",
            "gridwidth": 2,
            "linecolor": "white",
            "showbackground": true,
            "ticks": "",
            "zerolinecolor": "white"
           }
          },
          "shapedefaults": {
           "line": {
            "color": "#2a3f5f"
           }
          },
          "ternary": {
           "aaxis": {
            "gridcolor": "white",
            "linecolor": "white",
            "ticks": ""
           },
           "baxis": {
            "gridcolor": "white",
            "linecolor": "white",
            "ticks": ""
           },
           "bgcolor": "#E5ECF6",
           "caxis": {
            "gridcolor": "white",
            "linecolor": "white",
            "ticks": ""
           }
          },
          "title": {
           "x": 0.05
          },
          "xaxis": {
           "automargin": true,
           "gridcolor": "white",
           "linecolor": "white",
           "ticks": "",
           "title": {
            "standoff": 15
           },
           "zerolinecolor": "white",
           "zerolinewidth": 2
          },
          "yaxis": {
           "automargin": true,
           "gridcolor": "white",
           "linecolor": "white",
           "ticks": "",
           "title": {
            "standoff": 15
           },
           "zerolinecolor": "white",
           "zerolinewidth": 2
          }
         }
        },
        "title": {
         "text": "XLE"
        },
        "xaxis": {
         "anchor": "y",
         "domain": [
          0,
          1
         ]
        },
        "yaxis": {
         "anchor": "x",
         "domain": [
          0,
          1
         ]
        }
       }
      }
     },
     "metadata": {},
     "output_type": "display_data"
    }
   ],
   "source": [
    "import plotly.graph_objs as go\n",
    "from plotly.subplots import make_subplots\n",
    "\n",
    "etf = 'XLE'\n",
    "sorted_idx = date_of_inputs[etf].argsort()\n",
    "\n",
    "fig = make_subplots(rows=1, cols=1, shared_xaxes=True)\n",
    "fig.add_trace(go.Scatter(x = date_of_inputs[etf][sorted_idx], y = predictions[etf][sorted_idx], name='Predictions'), 1, 1)\n",
    "fig.add_trace(go.Scatter(x = date_of_inputs[etf][sorted_idx], y = actual_targets[etf][sorted_idx], name='Real'), 1, 1)\n",
    "fig.update_layout(title=f'{etf}')"
   ]
  }
 ],
 "metadata": {
  "kernelspec": {
   "display_name": "Python 3",
   "language": "python",
   "name": "python3"
  },
  "language_info": {
   "codemirror_mode": {
    "name": "ipython",
    "version": 3
   },
   "file_extension": ".py",
   "mimetype": "text/x-python",
   "name": "python",
   "nbconvert_exporter": "python",
   "pygments_lexer": "ipython3",
   "version": "3.11.4"
  }
 },
 "nbformat": 4,
 "nbformat_minor": 5
}
